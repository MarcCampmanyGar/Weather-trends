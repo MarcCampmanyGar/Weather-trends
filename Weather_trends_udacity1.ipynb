{
 "cells": [
  {
   "cell_type": "code",
   "execution_count": 12,
   "metadata": {},
   "outputs": [],
   "source": [
    "import pandas as pd\n",
    "import numpy as np\n",
    "from matplotlib import pyplot as plt"
   ]
  },
  {
   "cell_type": "code",
   "execution_count": 13,
   "metadata": {},
   "outputs": [],
   "source": [
    "temp = pd.read_csv('../Udacity Data Analyst/results.csv',index_col=0)"
   ]
  },
  {
   "cell_type": "code",
   "execution_count": 14,
   "metadata": {},
   "outputs": [
    {
     "data": {
      "text/html": [
       "<div>\n",
       "<style scoped>\n",
       "    .dataframe tbody tr th:only-of-type {\n",
       "        vertical-align: middle;\n",
       "    }\n",
       "\n",
       "    .dataframe tbody tr th {\n",
       "        vertical-align: top;\n",
       "    }\n",
       "\n",
       "    .dataframe thead th {\n",
       "        text-align: right;\n",
       "    }\n",
       "</style>\n",
       "<table border=\"1\" class=\"dataframe\">\n",
       "  <thead>\n",
       "    <tr style=\"text-align: right;\">\n",
       "      <th></th>\n",
       "      <th>city_temp</th>\n",
       "      <th>global_temp</th>\n",
       "    </tr>\n",
       "    <tr>\n",
       "      <th>year</th>\n",
       "      <th></th>\n",
       "      <th></th>\n",
       "    </tr>\n",
       "  </thead>\n",
       "  <tbody>\n",
       "    <tr>\n",
       "      <th>1743</th>\n",
       "      <td>13.81</td>\n",
       "      <td>NaN</td>\n",
       "    </tr>\n",
       "    <tr>\n",
       "      <th>1744</th>\n",
       "      <td>16.98</td>\n",
       "      <td>NaN</td>\n",
       "    </tr>\n",
       "    <tr>\n",
       "      <th>1745</th>\n",
       "      <td>10.78</td>\n",
       "      <td>NaN</td>\n",
       "    </tr>\n",
       "    <tr>\n",
       "      <th>1746</th>\n",
       "      <td>NaN</td>\n",
       "      <td>NaN</td>\n",
       "    </tr>\n",
       "    <tr>\n",
       "      <th>1747</th>\n",
       "      <td>NaN</td>\n",
       "      <td>NaN</td>\n",
       "    </tr>\n",
       "    <tr>\n",
       "      <th>1748</th>\n",
       "      <td>NaN</td>\n",
       "      <td>NaN</td>\n",
       "    </tr>\n",
       "    <tr>\n",
       "      <th>1749</th>\n",
       "      <td>NaN</td>\n",
       "      <td>NaN</td>\n",
       "    </tr>\n",
       "    <tr>\n",
       "      <th>1750</th>\n",
       "      <td>16.52</td>\n",
       "      <td>8.72</td>\n",
       "    </tr>\n",
       "    <tr>\n",
       "      <th>1751</th>\n",
       "      <td>16.78</td>\n",
       "      <td>7.98</td>\n",
       "    </tr>\n",
       "    <tr>\n",
       "      <th>1752</th>\n",
       "      <td>13.09</td>\n",
       "      <td>5.78</td>\n",
       "    </tr>\n",
       "  </tbody>\n",
       "</table>\n",
       "</div>"
      ],
      "text/plain": [
       "      city_temp  global_temp\n",
       "year                        \n",
       "1743      13.81          NaN\n",
       "1744      16.98          NaN\n",
       "1745      10.78          NaN\n",
       "1746        NaN          NaN\n",
       "1747        NaN          NaN\n",
       "1748        NaN          NaN\n",
       "1749        NaN          NaN\n",
       "1750      16.52         8.72\n",
       "1751      16.78         7.98\n",
       "1752      13.09         5.78"
      ]
     },
     "execution_count": 14,
     "metadata": {},
     "output_type": "execute_result"
    }
   ],
   "source": [
    "temp.head(10)"
   ]
  },
  {
   "cell_type": "code",
   "execution_count": 15,
   "metadata": {},
   "outputs": [],
   "source": [
    "temp = temp.dropna()"
   ]
  },
  {
   "cell_type": "code",
   "execution_count": 16,
   "metadata": {},
   "outputs": [],
   "source": [
    "temp['city_ma5'] = temp['city_temp'].rolling(5).mean()\n",
    "temp['global_ma5'] = temp['global_temp'].rolling(5).mean()"
   ]
  },
  {
   "cell_type": "code",
   "execution_count": 17,
   "metadata": {},
   "outputs": [
    {
     "data": {
      "text/html": [
       "<div>\n",
       "<style scoped>\n",
       "    .dataframe tbody tr th:only-of-type {\n",
       "        vertical-align: middle;\n",
       "    }\n",
       "\n",
       "    .dataframe tbody tr th {\n",
       "        vertical-align: top;\n",
       "    }\n",
       "\n",
       "    .dataframe thead th {\n",
       "        text-align: right;\n",
       "    }\n",
       "</style>\n",
       "<table border=\"1\" class=\"dataframe\">\n",
       "  <thead>\n",
       "    <tr style=\"text-align: right;\">\n",
       "      <th></th>\n",
       "      <th>city_temp</th>\n",
       "      <th>global_temp</th>\n",
       "      <th>city_ma5</th>\n",
       "      <th>global_ma5</th>\n",
       "    </tr>\n",
       "    <tr>\n",
       "      <th>year</th>\n",
       "      <th></th>\n",
       "      <th></th>\n",
       "      <th></th>\n",
       "      <th></th>\n",
       "    </tr>\n",
       "  </thead>\n",
       "  <tbody>\n",
       "    <tr>\n",
       "      <th>1750</th>\n",
       "      <td>16.52</td>\n",
       "      <td>8.72</td>\n",
       "      <td>NaN</td>\n",
       "      <td>NaN</td>\n",
       "    </tr>\n",
       "    <tr>\n",
       "      <th>1751</th>\n",
       "      <td>16.78</td>\n",
       "      <td>7.98</td>\n",
       "      <td>NaN</td>\n",
       "      <td>NaN</td>\n",
       "    </tr>\n",
       "    <tr>\n",
       "      <th>1752</th>\n",
       "      <td>13.09</td>\n",
       "      <td>5.78</td>\n",
       "      <td>NaN</td>\n",
       "      <td>NaN</td>\n",
       "    </tr>\n",
       "    <tr>\n",
       "      <th>1753</th>\n",
       "      <td>16.17</td>\n",
       "      <td>8.39</td>\n",
       "      <td>NaN</td>\n",
       "      <td>NaN</td>\n",
       "    </tr>\n",
       "    <tr>\n",
       "      <th>1754</th>\n",
       "      <td>16.09</td>\n",
       "      <td>8.47</td>\n",
       "      <td>15.730</td>\n",
       "      <td>7.868</td>\n",
       "    </tr>\n",
       "    <tr>\n",
       "      <th>1755</th>\n",
       "      <td>15.80</td>\n",
       "      <td>8.36</td>\n",
       "      <td>15.586</td>\n",
       "      <td>7.796</td>\n",
       "    </tr>\n",
       "    <tr>\n",
       "      <th>1756</th>\n",
       "      <td>16.11</td>\n",
       "      <td>8.85</td>\n",
       "      <td>15.452</td>\n",
       "      <td>7.970</td>\n",
       "    </tr>\n",
       "    <tr>\n",
       "      <th>1757</th>\n",
       "      <td>15.88</td>\n",
       "      <td>9.02</td>\n",
       "      <td>16.010</td>\n",
       "      <td>8.618</td>\n",
       "    </tr>\n",
       "    <tr>\n",
       "      <th>1758</th>\n",
       "      <td>15.04</td>\n",
       "      <td>6.74</td>\n",
       "      <td>15.784</td>\n",
       "      <td>8.288</td>\n",
       "    </tr>\n",
       "    <tr>\n",
       "      <th>1759</th>\n",
       "      <td>16.19</td>\n",
       "      <td>7.99</td>\n",
       "      <td>15.804</td>\n",
       "      <td>8.192</td>\n",
       "    </tr>\n",
       "  </tbody>\n",
       "</table>\n",
       "</div>"
      ],
      "text/plain": [
       "      city_temp  global_temp  city_ma5  global_ma5\n",
       "year                                              \n",
       "1750      16.52         8.72       NaN         NaN\n",
       "1751      16.78         7.98       NaN         NaN\n",
       "1752      13.09         5.78       NaN         NaN\n",
       "1753      16.17         8.39       NaN         NaN\n",
       "1754      16.09         8.47    15.730       7.868\n",
       "1755      15.80         8.36    15.586       7.796\n",
       "1756      16.11         8.85    15.452       7.970\n",
       "1757      15.88         9.02    16.010       8.618\n",
       "1758      15.04         6.74    15.784       8.288\n",
       "1759      16.19         7.99    15.804       8.192"
      ]
     },
     "execution_count": 17,
     "metadata": {},
     "output_type": "execute_result"
    }
   ],
   "source": [
    "temp.head(10)"
   ]
  },
  {
   "cell_type": "code",
   "execution_count": 26,
   "metadata": {},
   "outputs": [
    {
     "data": {
      "image/png": "[encoded data removed]",
      "text/plain": [
       "<Figure size 1080x432 with 1 Axes>"
      ]
     },
     "metadata": {
      "needs_background": "light"
     },
     "output_type": "display_data"
    }
   ],
   "source": [
    "plt.figure(figsize=(15, 6))\n",
    "temp['city_ma5'].plot(label='Barcelona')\n",
    "temp['global_ma5'].plot(label='Global', color='red')\n",
    "plt.axvline(x=1815, linewidth=1, color='green', linestyle='dashed')\n",
    "plt.axvline(x=1790, linewidth=1, color='green', linestyle='dashed')\n",
    "plt.axvline(x=1890, linewidth=1, color='green', linestyle='dashed')\n",
    "plt.axvline(x=1975, linewidth=1, color='green', linestyle='dashed')\n",
    "plt.ylabel('Temperature in ºC')\n",
    "plt.title('Temperature evolution with rolling average (5Y)')\n",
    "plt.grid()\n",
    "plt.legend()\n",
    "plt.show()"
   ]
  },
  {
   "cell_type": "code",
   "execution_count": 27,
   "metadata": {},
   "outputs": [
    {
     "data": {
      "text/plain": [
       "year\n",
       "1754    15.730\n",
       "2013    17.274\n",
       "Name: city_ma5, dtype: float64"
      ]
     },
     "execution_count": 27,
     "metadata": {},
     "output_type": "execute_result"
    }
   ],
   "source": [
    "temp.loc[[1754,2013],\"city_ma5\"]"
   ]
  },
  {
   "cell_type": "code",
   "execution_count": 28,
   "metadata": {},
   "outputs": [
    {
     "data": {
      "text/plain": [
       "1.5440000000000076"
      ]
     },
     "execution_count": 28,
     "metadata": {},
     "output_type": "execute_result"
    }
   ],
   "source": [
    "temp.loc[2013,'city_ma5'] - temp.loc[1754,'city_ma5']"
   ]
  },
  {
   "cell_type": "code",
   "execution_count": 29,
   "metadata": {},
   "outputs": [
    {
     "data": {
      "text/plain": [
       "year\n",
       "1754    7.868\n",
       "2013    9.570\n",
       "Name: global_ma5, dtype: float64"
      ]
     },
     "execution_count": 29,
     "metadata": {},
     "output_type": "execute_result"
    }
   ],
   "source": [
    "temp.loc[[1754,2013],\"global_ma5\"]"
   ]
  },
  {
   "cell_type": "code",
   "execution_count": 30,
   "metadata": {},
   "outputs": [
    {
     "data": {
      "text/plain": [
       "1.7019999999999964"
      ]
     },
     "execution_count": 30,
     "metadata": {},
     "output_type": "execute_result"
    }
   ],
   "source": [
    "temp.loc[2013,'global_ma5'] - temp.loc[1754,'global_ma5']"
   ]
  },
  {
   "cell_type": "code",
   "execution_count": 31,
   "metadata": {},
   "outputs": [
    {
     "data": {
      "text/html": [
       "<div>\n",
       "<style scoped>\n",
       "    .dataframe tbody tr th:only-of-type {\n",
       "        vertical-align: middle;\n",
       "    }\n",
       "\n",
       "    .dataframe tbody tr th {\n",
       "        vertical-align: top;\n",
       "    }\n",
       "\n",
       "    .dataframe thead th {\n",
       "        text-align: right;\n",
       "    }\n",
       "</style>\n",
       "<table border=\"1\" class=\"dataframe\">\n",
       "  <thead>\n",
       "    <tr style=\"text-align: right;\">\n",
       "      <th></th>\n",
       "      <th>city_temp</th>\n",
       "      <th>global_temp</th>\n",
       "      <th>city_ma5</th>\n",
       "      <th>global_ma5</th>\n",
       "      <th>ma_diff</th>\n",
       "    </tr>\n",
       "    <tr>\n",
       "      <th>year</th>\n",
       "      <th></th>\n",
       "      <th></th>\n",
       "      <th></th>\n",
       "      <th></th>\n",
       "      <th></th>\n",
       "    </tr>\n",
       "  </thead>\n",
       "  <tbody>\n",
       "    <tr>\n",
       "      <th>1750</th>\n",
       "      <td>16.52</td>\n",
       "      <td>8.72</td>\n",
       "      <td>NaN</td>\n",
       "      <td>NaN</td>\n",
       "      <td>NaN</td>\n",
       "    </tr>\n",
       "    <tr>\n",
       "      <th>1751</th>\n",
       "      <td>16.78</td>\n",
       "      <td>7.98</td>\n",
       "      <td>NaN</td>\n",
       "      <td>NaN</td>\n",
       "      <td>NaN</td>\n",
       "    </tr>\n",
       "    <tr>\n",
       "      <th>1752</th>\n",
       "      <td>13.09</td>\n",
       "      <td>5.78</td>\n",
       "      <td>NaN</td>\n",
       "      <td>NaN</td>\n",
       "      <td>NaN</td>\n",
       "    </tr>\n",
       "    <tr>\n",
       "      <th>1753</th>\n",
       "      <td>16.17</td>\n",
       "      <td>8.39</td>\n",
       "      <td>NaN</td>\n",
       "      <td>NaN</td>\n",
       "      <td>NaN</td>\n",
       "    </tr>\n",
       "    <tr>\n",
       "      <th>1754</th>\n",
       "      <td>16.09</td>\n",
       "      <td>8.47</td>\n",
       "      <td>15.730</td>\n",
       "      <td>7.868</td>\n",
       "      <td>7.862</td>\n",
       "    </tr>\n",
       "    <tr>\n",
       "      <th>...</th>\n",
       "      <td>...</td>\n",
       "      <td>...</td>\n",
       "      <td>...</td>\n",
       "      <td>...</td>\n",
       "      <td>...</td>\n",
       "    </tr>\n",
       "    <tr>\n",
       "      <th>1845</th>\n",
       "      <td>15.70</td>\n",
       "      <td>7.85</td>\n",
       "      <td>15.916</td>\n",
       "      <td>7.876</td>\n",
       "      <td>8.040</td>\n",
       "    </tr>\n",
       "    <tr>\n",
       "      <th>1846</th>\n",
       "      <td>16.64</td>\n",
       "      <td>8.55</td>\n",
       "      <td>16.030</td>\n",
       "      <td>8.048</td>\n",
       "      <td>7.982</td>\n",
       "    </tr>\n",
       "    <tr>\n",
       "      <th>1847</th>\n",
       "      <td>15.84</td>\n",
       "      <td>8.09</td>\n",
       "      <td>16.022</td>\n",
       "      <td>8.062</td>\n",
       "      <td>7.960</td>\n",
       "    </tr>\n",
       "    <tr>\n",
       "      <th>1848</th>\n",
       "      <td>15.66</td>\n",
       "      <td>7.98</td>\n",
       "      <td>15.958</td>\n",
       "      <td>8.024</td>\n",
       "      <td>7.934</td>\n",
       "    </tr>\n",
       "    <tr>\n",
       "      <th>1849</th>\n",
       "      <td>16.04</td>\n",
       "      <td>7.98</td>\n",
       "      <td>15.976</td>\n",
       "      <td>8.090</td>\n",
       "      <td>7.886</td>\n",
       "    </tr>\n",
       "  </tbody>\n",
       "</table>\n",
       "<p>100 rows × 5 columns</p>\n",
       "</div>"
      ],
      "text/plain": [
       "      city_temp  global_temp  city_ma5  global_ma5  ma_diff\n",
       "year                                                       \n",
       "1750      16.52         8.72       NaN         NaN      NaN\n",
       "1751      16.78         7.98       NaN         NaN      NaN\n",
       "1752      13.09         5.78       NaN         NaN      NaN\n",
       "1753      16.17         8.39       NaN         NaN      NaN\n",
       "1754      16.09         8.47    15.730       7.868    7.862\n",
       "...         ...          ...       ...         ...      ...\n",
       "1845      15.70         7.85    15.916       7.876    8.040\n",
       "1846      16.64         8.55    16.030       8.048    7.982\n",
       "1847      15.84         8.09    16.022       8.062    7.960\n",
       "1848      15.66         7.98    15.958       8.024    7.934\n",
       "1849      16.04         7.98    15.976       8.090    7.886\n",
       "\n",
       "[100 rows x 5 columns]"
      ]
     },
     "execution_count": 31,
     "metadata": {},
     "output_type": "execute_result"
    }
   ],
   "source": [
    "temp['ma_diff'] = abs(temp['global_ma5']-temp['city_ma5'])\n",
    "temp.head(100)"
   ]
  },
  {
   "cell_type": "code",
   "execution_count": 32,
   "metadata": {},
   "outputs": [
    {
     "data": {
      "text/plain": [
       "7.781246153846162"
      ]
     },
     "execution_count": 32,
     "metadata": {},
     "output_type": "execute_result"
    }
   ],
   "source": [
    "np.mean(temp.ma_diff)"
   ]
  },
  {
   "cell_type": "code",
   "execution_count": 33,
   "metadata": {},
   "outputs": [
    {
     "data": {
      "text/plain": [
       "(8.508000000000003, 7.154000000000007)"
      ]
     },
     "execution_count": 33,
     "metadata": {},
     "output_type": "execute_result"
    }
   ],
   "source": [
    "max(temp.ma_diff.loc[1754:]), min(temp.ma_diff.loc[1754:])"
   ]
  },
  {
   "cell_type": "code",
   "execution_count": 34,
   "metadata": {},
   "outputs": [
    {
     "data": {
      "text/html": [
       "<div>\n",
       "<style scoped>\n",
       "    .dataframe tbody tr th:only-of-type {\n",
       "        vertical-align: middle;\n",
       "    }\n",
       "\n",
       "    .dataframe tbody tr th {\n",
       "        vertical-align: top;\n",
       "    }\n",
       "\n",
       "    .dataframe thead th {\n",
       "        text-align: right;\n",
       "    }\n",
       "</style>\n",
       "<table border=\"1\" class=\"dataframe\">\n",
       "  <thead>\n",
       "    <tr style=\"text-align: right;\">\n",
       "      <th></th>\n",
       "      <th>city_temp</th>\n",
       "      <th>global_temp</th>\n",
       "      <th>city_ma5</th>\n",
       "      <th>global_ma5</th>\n",
       "      <th>ma_diff</th>\n",
       "    </tr>\n",
       "  </thead>\n",
       "  <tbody>\n",
       "    <tr>\n",
       "      <th>city_temp</th>\n",
       "      <td>1.000000</td>\n",
       "      <td>0.693804</td>\n",
       "      <td>0.761725</td>\n",
       "      <td>0.627080</td>\n",
       "      <td>0.107639</td>\n",
       "    </tr>\n",
       "    <tr>\n",
       "      <th>global_temp</th>\n",
       "      <td>0.693804</td>\n",
       "      <td>1.000000</td>\n",
       "      <td>0.749217</td>\n",
       "      <td>0.849099</td>\n",
       "      <td>-0.326547</td>\n",
       "    </tr>\n",
       "    <tr>\n",
       "      <th>city_ma5</th>\n",
       "      <td>0.761725</td>\n",
       "      <td>0.749217</td>\n",
       "      <td>1.000000</td>\n",
       "      <td>0.845151</td>\n",
       "      <td>0.100520</td>\n",
       "    </tr>\n",
       "    <tr>\n",
       "      <th>global_ma5</th>\n",
       "      <td>0.627080</td>\n",
       "      <td>0.849099</td>\n",
       "      <td>0.845151</td>\n",
       "      <td>1.000000</td>\n",
       "      <td>-0.446866</td>\n",
       "    </tr>\n",
       "    <tr>\n",
       "      <th>ma_diff</th>\n",
       "      <td>0.107639</td>\n",
       "      <td>-0.326547</td>\n",
       "      <td>0.100520</td>\n",
       "      <td>-0.446866</td>\n",
       "      <td>1.000000</td>\n",
       "    </tr>\n",
       "  </tbody>\n",
       "</table>\n",
       "</div>"
      ],
      "text/plain": [
       "             city_temp  global_temp  city_ma5  global_ma5   ma_diff\n",
       "city_temp     1.000000     0.693804  0.761725    0.627080  0.107639\n",
       "global_temp   0.693804     1.000000  0.749217    0.849099 -0.326547\n",
       "city_ma5      0.761725     0.749217  1.000000    0.845151  0.100520\n",
       "global_ma5    0.627080     0.849099  0.845151    1.000000 -0.446866\n",
       "ma_diff       0.107639    -0.326547  0.100520   -0.446866  1.000000"
      ]
     },
     "execution_count": 34,
     "metadata": {},
     "output_type": "execute_result"
    }
   ],
   "source": [
    "temp.corr()"
   ]
  },
  {
   "cell_type": "code",
   "execution_count": null,
   "metadata": {},
   "outputs": [],
   "source": []
  }
 ],
 "metadata": {
  "kernelspec": {
   "display_name": "Python 3",
   "language": "python",
   "name": "python3"
  },
  "language_info": {
   "codemirror_mode": {
    "name": "ipython",
    "version": 3
   },
   "file_extension": ".py",
   "mimetype": "text/x-python",
   "name": "python",
   "nbconvert_exporter": "python",
   "pygments_lexer": "ipython3",
   "version": "3.8.3"
  }
 },
 "nbformat": 4,
 "nbformat_minor": 4
}
